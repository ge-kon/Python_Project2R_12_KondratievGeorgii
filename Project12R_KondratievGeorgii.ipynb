{
 "cells": [
  {
   "cell_type": "markdown",
   "metadata": {
    "deletable": false,
    "editable": false,
    "id": "bRBVx_SoO_Ot",
    "pycharm": {
     "name": "#%% md\n"
    }
   },
   "source": [
    "# **Проект 2.** Веб-сервис с прогнозом погоды для заданного маршрута\n",
    "\n",
    "Погодные условия могут поменять план путешествия в любой момент. Планировать поездки проще, если заранее знать, что где-то в пути погода испортится: пойдёт дождь или неожиданно похолодает. Ты можешь спроектировать свой веб-сервис, который будет учитывать погоду на маршруте, и использовать его в путешествиях!\n",
    "\n",
    "**Цель.** Разработай веб-сервис, который предсказывает вероятность плохой погоды для заданного маршрута, используя данные AccuWeather API. Сервис должен предоставлять пользователю удобные визуализации и прогнозы погоды для разных точек маршрута и временных интервалов.\n",
    "\n",
    "**Основные задачи проекта**\n",
    "- Настрой рабочее окружение и установи необходимые библиотеки для работы с `Flask` и API.\n",
    "- Подключись к AccuWeather API, чтобы получать актуальные данные о погоде.\n",
    "- Разработай модель, чтобы на основе параметров погоды определять неблагоприятные погодные условия.\n",
    "- Протестируй веб-сервис для различных маршрутов и продумай возможные пути оптимизации (обработку ошибок, дополнительные функции для улучшения пользовательского опыта).\n",
    "\n",
    "\n",
    "Источник данных: [AccuWeather](https://developer.accuweather.com/accuweather-forecast-api/apis)."
   ]
  },
  {
   "cell_type": "markdown",
   "metadata": {
    "deletable": false,
    "editable": false,
    "id": "iHf447s1v2h4",
    "pycharm": {
     "name": "#%% md\n"
    }
   },
   "source": [
    "## Формат сдачи проекта\n",
    "\n",
    "<!-- Аналитики данных не только находят инсайты, но и умеют их доносить.  -->\n",
    "<!-- Чтобы результаты работы были понятны другим (коллегам, заказчикам или даже тебе через месяц), придерживайся следующих правил: -->\n",
    "\n",
    "- Выполняй проект в IDE.\n",
    "- Делай точечные коммиты для отслеживания изменений в проекте.\n",
    "- Выложи решение на GitHub и сдай на проверку ссылку на репозиторий. Проверь, что репозиторий публичный и доступен для просмотра.  \n",
    "\n",
    "<!-- Правильное оформление ноутбука — это твой инструмент, чтобы идеи и результаты были понятны другим, будь то коллеги, заказчики или даже ты сам через пару месяцев. -->\n",
    "\n",
    "<!-- * Оформи проект в отдельном ноутбуке или проектом в IDE.\n",
    "\n",
    "* Разделяй проект на логичные блоки с помощью заголовков.\n",
    "\n",
    "* Перед каждым блоком кода добавляй краткое описание, которое объясняет:\n",
    "  - что ты собираешься сделать,\n",
    "  - зачем это нужно.\n",
    "\n",
    "* Всегда добавляй комментарии к коду. -->\n",
    "\n",
    "<!-- * В конце добавь раздел с выводами. В нём нужно кратко описать ключевые инсайты и результаты твоего анализа. -->\n",
    "\n",
    "<!-- 1. **Заголовки**: четко разделяй проект на логичные блоки с помощью заголовков. Это поможет легко ориентироваться в содержании и понимать, о чем каждый раздел.\n",
    "\n",
    "2. **Описание**: перед каждым блоком кода добавляй краткое описание, которое объясняет, что ты собираешься сделать и зачем это нужно. Это помогает лучше понять ход анализа. -->\n",
    "\n",
    "<!-- 3. **Комментарии к коду**: всегда добавляй комментарии к коду. Это позволит любому человеку, включая тебя самого в будущем, быстро понять, что делает каждая строка или блок кода.\n",
    "\n",
    "4. **Выводы**: не забудь выделить раздел для выводов. Здесь нужно кратко описать ключевые инсайты и результаты, которые ты нашел в ходе анализа. Это поможет закрепить основные моменты и подвести итоги работы. -->"
   ]
  },
  {
   "cell_type": "markdown",
   "metadata": {
    "deletable": false,
    "editable": false,
    "id": "CNtDWlwVv42q",
    "pycharm": {
     "name": "#%% md\n"
    }
   },
   "source": [
    "## Оценивание проекта\n",
    "\n",
    "Преподаватель оценивает проект на основе критериев, которые указаны под каждым заданием. Баллы за выполнение всех заданий суммируются и конвертируются в итоговую оценку по **10-балльной** шкале.\n",
    "\n",
    "Максимальное количество баллов за проект — **100 баллов**.\n",
    "\n",
    "Таблица конвертации 100-балльной оценки в 10-балльную шкалу:\n",
    "\n",
    "| Баллы | Оценка |\n",
    "|----------------------------|---------------------------|\n",
    "| 91–100                      | 10                        |\n",
    "| 81–90                       | 9                         |\n",
    "| 71–80                       | 8                         |\n",
    "| 61–70                       | 7                         |\n",
    "| 51–60                       | 6                         |\n",
    "| 41–50                       | 5                         |\n",
    "| 31–40                       | 4                         |\n",
    "| 21–30                       | 3                         |\n",
    "| 11–20                       | 2                         |\n",
    "| 1–10                        | 1                         |\n",
    "| 0                           | 0                         |\n"
   ]
  },
  {
   "cell_type": "markdown",
   "metadata": {
    "deletable": false,
    "editable": false,
    "id": "DlT8RcugTOew",
    "pycharm": {
     "name": "#%% md\n"
    }
   },
   "source": [
    "## Настройка окружения, подключение к API AccuWeather, получение данных о погоде\n",
    "\n",
    "Первый шаг в создании веб-сервиса — это получить данные о погоде с помощью AccuWeather API.\n",
    "\n",
    "\n",
    "1. Зарегистрируйся на [AccuWeather API](https://developer.accuweather.com/) и получи свой API-ключ. Ознакомься с документацией и ограничениями работы API по количеству запросов. Расходуй доступные ресурсы рационально.\n",
    "2. Установи необходимые библиотеки: `Flask`, `requests`. Убедись, что `Flask` работает корректно и может запустить простейший веб-сервис.\n",
    "3. С помощью библиотеки `requests` сделай запрос к API и получи данные о погоде по заданным координатам (широта и долгота).\n",
    "4. Преобразуй полученные данные в формат JSON, чтобы продолжить работу с ними.\n",
    "5. Сохрани ключевые параметры прогноза погоды:\n",
    "\n",
    "    - температура в градусах Цельсия,\n",
    "\n",
    "    - влажность (процентное содержание),\n",
    "\n",
    "    - скорость ветра,\n",
    "\n",
    "    - вероятность дождя в процентах.\n",
    "\n"
   ]
  },
  {
   "cell_type": "markdown",
   "metadata": {
    "deletable": false,
    "editable": false,
    "id": "pPhNKK99IrAD",
    "pycharm": {
     "name": "#%% md\n"
    }
   },
   "source": [
    "### Критерии оценки\n",
    "\n",
    "1. **Получение API-ключа и установка библиотек — 4 балла:**\n",
    "   - Студент успешно зарегистрировался и получил API-ключ (1 балл).\n",
    "   - Нет ошибок при получении доступа к API (2 балла).\n",
    "   - Все необходимые библиотеки установлены без ошибок (1 балл).\n",
    "\n",
    "2. **Использование библиотеки `requests` для запроса данных — 8 баллов:**\n",
    "   - Студент правильно использовал библиотеку для отправки HTTP-запросов к API.\n",
    "   - Полученные данные корректно загружены в Python.\n",
    "\n",
    "3. **Преобразование данных в читабельный формат — 6 баллов:**\n",
    "   - Данные представлены в удобном виде для дальнейшего анализа.\n",
    "\n",
    "5. **Дополнительные критерии (опционально, 2 балла):**\n",
    "   - Студент использовал дополнительные методы для проверки API (например, тестовые запросы на другие точки) (1 балл).\n",
    "   - Оформление кода и результатов выполнено с использованием документации, комментариев и других принятых стандартов (1 балл).\n",
    "\n",
    "Максимальный балл, который можно получить за задание — **20 баллов.**"
   ]
  },
  {
   "cell_type": "code",
   "execution_count": null,
   "metadata": {},
   "outputs": [],
   "source": [
    "#Библиотеки\n",
    "from flask import Flask\n",
    "import requests"
   ]
  },
  {
   "cell_type": "code",
   "execution_count": null,
   "metadata": {},
   "outputs": [],
   "source": [
    "#Общение с апишкой\n",
    "api_key = 'wV5H0MQlbLQmiiZlDFz809FpAned4Rz7'\n",
    "location_url = \"http://dataservice.accuweather.com/locations/v1/cities/geoposition/search\"\n",
    "forecast_url = \"http://dataservice.accuweather.com/forecasts/v1/daily/1day/\"\n",
    "\n",
    "def get_weather(location_key):\n",
    "    url = f'{forecast_url}{location_key}'\n",
    "    params = {\n",
    "        'apikey': api_key,\n",
    "        'metric': True,\n",
    "        'details': True\n",
    "    }\n",
    "    response = requests.get(url, params=params)\n",
    "    if response.status_code != 200:\n",
    "        raise Exception(f'Error: {response.status_code}')\n",
    "    return response.json()\n",
    "\n",
    "def get_location_key(lat, lon):\n",
    "    params = {\n",
    "        'apikey': api_key,\n",
    "        'q': f'{lat},{lon}'\n",
    "    }\n",
    "    response = requests.get(location_url, params=params)\n",
    "    if response.status_code != 200:\n",
    "        raise Exception(f'Error: {response.status_code}')\n",
    "    location_data = response.json()\n",
    "    return location_data['Key']"
   ]
  },
  {
   "cell_type": "code",
   "execution_count": null,
   "metadata": {},
   "outputs": [],
   "source": [
    "#тест\n",
    "app = Flask(__name__)\n",
    "\n",
    "@app.route('/')\n",
    "def hello_world():\n",
    "    return 'Hello, World!'\n",
    "\n",
    "if __name__ == '__main__':\n",
    "    app.run(debug=True)"
   ]
  },
  {
   "cell_type": "code",
   "execution_count": 23,
   "metadata": {},
   "outputs": [],
   "source": [
    "#Проверка\n",
    "lat, lon = 55.7558, 37.6173  #Москва\n",
    "location_key = get_location_key(lat, lon)\n",
    "data = get_weather(location_key)"
   ]
  },
  {
   "cell_type": "code",
   "execution_count": null,
   "metadata": {},
   "outputs": [
    {
     "data": {
      "text/plain": [
       "{'Headline': {'EffectiveDate': '2024-12-08T07:00:00+03:00',\n",
       "  'EffectiveEpochDate': 1733630400,\n",
       "  'Severity': 4,\n",
       "  'Text': 'A coating to 1 cm of snow Sunday morning',\n",
       "  'Category': 'snow',\n",
       "  'EndDate': '2024-12-08T13:00:00+03:00',\n",
       "  'EndEpochDate': 1733652000,\n",
       "  'MobileLink': 'http://www.accuweather.com/en/ru/tverskoy/2515351/daily-weather-forecast/2515351?unit=c&lang=en-us',\n",
       "  'Link': 'http://www.accuweather.com/en/ru/tverskoy/2515351/daily-weather-forecast/2515351?unit=c&lang=en-us'},\n",
       " 'DailyForecasts': [{'Date': '2024-12-06T07:00:00+03:00',\n",
       "   'EpochDate': 1733457600,\n",
       "   'Sun': {'Rise': '2024-12-06T08:43:00+03:00',\n",
       "    'EpochRise': 1733463780,\n",
       "    'Set': '2024-12-06T15:58:00+03:00',\n",
       "    'EpochSet': 1733489880},\n",
       "   'Moon': {'Rise': '2024-12-06T12:53:00+03:00',\n",
       "    'EpochRise': 1733478780,\n",
       "    'Set': '2024-12-06T21:11:00+03:00',\n",
       "    'EpochSet': 1733508660,\n",
       "    'Phase': 'WaxingCrescent',\n",
       "    'Age': 5},\n",
       "   'Temperature': {'Minimum': {'Value': -5.9, 'Unit': 'C', 'UnitType': 17},\n",
       "    'Maximum': {'Value': -5.0, 'Unit': 'C', 'UnitType': 17}},\n",
       "   'RealFeelTemperature': {'Minimum': {'Value': -7.0,\n",
       "     'Unit': 'C',\n",
       "     'UnitType': 17,\n",
       "     'Phrase': 'Very Cold'},\n",
       "    'Maximum': {'Value': -8.6,\n",
       "     'Unit': 'C',\n",
       "     'UnitType': 17,\n",
       "     'Phrase': 'Very Cold'}},\n",
       "   'RealFeelTemperatureShade': {'Minimum': {'Value': -7.0,\n",
       "     'Unit': 'C',\n",
       "     'UnitType': 17,\n",
       "     'Phrase': 'Very Cold'},\n",
       "    'Maximum': {'Value': -8.6,\n",
       "     'Unit': 'C',\n",
       "     'UnitType': 17,\n",
       "     'Phrase': 'Very Cold'}},\n",
       "   'HoursOfSun': 1.2,\n",
       "   'DegreeDaySummary': {'Heating': {'Value': 23.0,\n",
       "     'Unit': 'C',\n",
       "     'UnitType': 17},\n",
       "    'Cooling': {'Value': 0.0, 'Unit': 'C', 'UnitType': 17}},\n",
       "   'AirAndPollen': [{'Name': 'AirQuality',\n",
       "     'Value': 0,\n",
       "     'Category': 'Good',\n",
       "     'CategoryValue': 1,\n",
       "     'Type': 'Ozone'},\n",
       "    {'Name': 'Grass', 'Value': 0, 'Category': 'Low', 'CategoryValue': 1},\n",
       "    {'Name': 'Mold', 'Value': 0, 'Category': 'Low', 'CategoryValue': 1},\n",
       "    {'Name': 'Ragweed', 'Value': 0, 'Category': 'Low', 'CategoryValue': 1},\n",
       "    {'Name': 'Tree', 'Value': 0, 'Category': 'Low', 'CategoryValue': 1},\n",
       "    {'Name': 'UVIndex', 'Value': 0, 'Category': 'Low', 'CategoryValue': 1}],\n",
       "   'Day': {'Icon': 22,\n",
       "    'IconPhrase': 'Snow',\n",
       "    'HasPrecipitation': True,\n",
       "    'PrecipitationType': 'Snow',\n",
       "    'PrecipitationIntensity': 'Moderate',\n",
       "    'ShortPhrase': 'Mostly cloudy',\n",
       "    'LongPhrase': 'Mostly cloudy',\n",
       "    'PrecipitationProbability': 94,\n",
       "    'ThunderstormProbability': 0,\n",
       "    'RainProbability': 0,\n",
       "    'SnowProbability': 94,\n",
       "    'IceProbability': 75,\n",
       "    'Wind': {'Speed': {'Value': 20.4, 'Unit': 'km/h', 'UnitType': 7},\n",
       "     'Direction': {'Degrees': 128, 'Localized': 'SE', 'English': 'SE'}},\n",
       "    'WindGust': {'Speed': {'Value': 29.6, 'Unit': 'km/h', 'UnitType': 7},\n",
       "     'Direction': {'Degrees': 120, 'Localized': 'ESE', 'English': 'ESE'}},\n",
       "    'TotalLiquid': {'Value': 3.6, 'Unit': 'mm', 'UnitType': 3},\n",
       "    'Rain': {'Value': 0.0, 'Unit': 'mm', 'UnitType': 3},\n",
       "    'Snow': {'Value': 3.4, 'Unit': 'cm', 'UnitType': 4},\n",
       "    'Ice': {'Value': 0.0, 'Unit': 'mm', 'UnitType': 3},\n",
       "    'HoursOfPrecipitation': 7.0,\n",
       "    'HoursOfRain': 0.0,\n",
       "    'HoursOfSnow': 7.0,\n",
       "    'HoursOfIce': 0.0,\n",
       "    'CloudCover': 97,\n",
       "    'Evapotranspiration': {'Value': 0.3, 'Unit': 'mm', 'UnitType': 3},\n",
       "    'SolarIrradiance': {'Value': 50.6, 'Unit': 'W/m²', 'UnitType': 33},\n",
       "    'RelativeHumidity': {'Minimum': 80, 'Maximum': 88, 'Average': 84},\n",
       "    'WetBulbTemperature': {'Minimum': {'Value': -7.6,\n",
       "      'Unit': 'C',\n",
       "      'UnitType': 17},\n",
       "     'Maximum': {'Value': -5.6, 'Unit': 'C', 'UnitType': 17},\n",
       "     'Average': {'Value': -6.4, 'Unit': 'C', 'UnitType': 17}},\n",
       "    'WetBulbGlobeTemperature': {'Minimum': {'Value': -7.2,\n",
       "      'Unit': 'C',\n",
       "      'UnitType': 17},\n",
       "     'Maximum': {'Value': -5.0, 'Unit': 'C', 'UnitType': 17},\n",
       "     'Average': {'Value': -5.9, 'Unit': 'C', 'UnitType': 17}}},\n",
       "   'Night': {'Icon': 38,\n",
       "    'IconPhrase': 'Mostly cloudy',\n",
       "    'HasPrecipitation': False,\n",
       "    'ShortPhrase': 'Turning cloudy',\n",
       "    'LongPhrase': 'Turning cloudy',\n",
       "    'PrecipitationProbability': 0,\n",
       "    'ThunderstormProbability': 0,\n",
       "    'RainProbability': 0,\n",
       "    'SnowProbability': 0,\n",
       "    'IceProbability': 0,\n",
       "    'Wind': {'Speed': {'Value': 7.4, 'Unit': 'km/h', 'UnitType': 7},\n",
       "     'Direction': {'Degrees': 131, 'Localized': 'SE', 'English': 'SE'}},\n",
       "    'WindGust': {'Speed': {'Value': 20.4, 'Unit': 'km/h', 'UnitType': 7},\n",
       "     'Direction': {'Degrees': 136, 'Localized': 'SE', 'English': 'SE'}},\n",
       "    'TotalLiquid': {'Value': 0.0, 'Unit': 'mm', 'UnitType': 3},\n",
       "    'Rain': {'Value': 0.0, 'Unit': 'mm', 'UnitType': 3},\n",
       "    'Snow': {'Value': 0.0, 'Unit': 'cm', 'UnitType': 4},\n",
       "    'Ice': {'Value': 0.0, 'Unit': 'mm', 'UnitType': 3},\n",
       "    'HoursOfPrecipitation': 0.0,\n",
       "    'HoursOfRain': 0.0,\n",
       "    'HoursOfSnow': 0.0,\n",
       "    'HoursOfIce': 0.0,\n",
       "    'CloudCover': 62,\n",
       "    'Evapotranspiration': {'Value': 0.0, 'Unit': 'mm', 'UnitType': 3},\n",
       "    'SolarIrradiance': {'Value': 0.0, 'Unit': 'W/m²', 'UnitType': 33},\n",
       "    'RelativeHumidity': {'Minimum': 77, 'Maximum': 85, 'Average': 81},\n",
       "    'WetBulbTemperature': {'Minimum': {'Value': -6.5,\n",
       "      'Unit': 'C',\n",
       "      'UnitType': 17},\n",
       "     'Maximum': {'Value': -5.7, 'Unit': 'C', 'UnitType': 17},\n",
       "     'Average': {'Value': -6.2, 'Unit': 'C', 'UnitType': 17}},\n",
       "    'WetBulbGlobeTemperature': {'Minimum': {'Value': -5.9,\n",
       "      'Unit': 'C',\n",
       "      'UnitType': 17},\n",
       "     'Maximum': {'Value': -5.2, 'Unit': 'C', 'UnitType': 17},\n",
       "     'Average': {'Value': -5.5, 'Unit': 'C', 'UnitType': 17}}},\n",
       "   'Sources': ['AccuWeather'],\n",
       "   'MobileLink': 'http://www.accuweather.com/en/ru/tverskoy/2515351/daily-weather-forecast/2515351?day=1&unit=c&lang=en-us',\n",
       "   'Link': 'http://www.accuweather.com/en/ru/tverskoy/2515351/daily-weather-forecast/2515351?day=1&unit=c&lang=en-us'}]}"
      ]
     },
     "execution_count": 24,
     "metadata": {},
     "output_type": "execute_result"
    }
   ],
   "source": [
    "data"
   ]
  },
  {
   "cell_type": "code",
   "execution_count": 41,
   "metadata": {},
   "outputs": [
    {
     "data": {
      "text/plain": [
       "-5.45"
      ]
     },
     "execution_count": 41,
     "metadata": {},
     "output_type": "execute_result"
    }
   ],
   "source": [
    "temperature = data['DailyForecasts'][0]['Temperature']\n",
    "temperature = (temperature['Minimum']['Value'] + temperature['Maximum']['Value'])/2\n",
    "temperature"
   ]
  },
  {
   "cell_type": "code",
   "execution_count": 42,
   "metadata": {},
   "outputs": [
    {
     "data": {
      "text/plain": [
       "84"
      ]
     },
     "execution_count": 42,
     "metadata": {},
     "output_type": "execute_result"
    }
   ],
   "source": [
    "humidity = data['DailyForecasts'][0]['Day']['RelativeHumidity']['Average']\n",
    "humidity"
   ]
  },
  {
   "cell_type": "code",
   "execution_count": 40,
   "metadata": {},
   "outputs": [
    {
     "data": {
      "text/plain": [
       "20.4"
      ]
     },
     "execution_count": 40,
     "metadata": {},
     "output_type": "execute_result"
    }
   ],
   "source": [
    "wind_speed = data['DailyForecasts'][0]['Day']['Wind']['Speed']['Value']\n",
    "wind_speed"
   ]
  },
  {
   "cell_type": "code",
   "execution_count": 45,
   "metadata": {},
   "outputs": [
    {
     "data": {
      "text/plain": [
       "94"
      ]
     },
     "execution_count": 45,
     "metadata": {},
     "output_type": "execute_result"
    }
   ],
   "source": [
    "#это вероятность осадков. в условиях просится дождь, но у нас сейчас зима и дождя не будет, поэтому вероятность осадков (т е снег и т д)\n",
    "precipitation_probability = data['DailyForecasts'][0]['Day']['PrecipitationProbability']\n",
    "precipitation_probability\n",
    "#если нужен дождь, то rain_probability = tmp['Day']['RainProbability']"
   ]
  },
  {
   "cell_type": "markdown",
   "metadata": {
    "deletable": false,
    "editable": false,
    "id": "lKXgLADAj8aQ",
    "pycharm": {
     "name": "#%% md\n"
    }
   },
   "source": [
    "## Разработка модели для оценки неблагоприятных погодных условий\n",
    "\n",
    "Для создания веб-сервиса важно определить критерии плохих погодных условий. Это задание предполагает разработку логики, которая будет классифицировать погодные условия как «хорошие» или «плохие» на основе метеорологических параметров.\n",
    "\n",
    "- Определи ключевые метеорологические параметры, которые определяют плохие погодные условия.\n",
    "- Разработай простую логику, которая будет определять, когда погодные условия считаются неблагоприятными. Пример логики:\n",
    "\n",
    "  - температура ниже 0°C или выше 35°C,\n",
    "\n",
    "  - скорость ветра выше 50 км/ч,\n",
    "\n",
    "  - вероятность осадков выше 70%.\n",
    "\n",
    "- Реализуй модель в виде функции, которая принимает на вход параметры погоды (температура, ветер, осадки) и возвращает результат: плохие или хорошие погодные условия. Учитывай, что:\n",
    "  - Модель оценки, которую ты разработал (например, функция `check_bad_weather`), должна быть вызвана каждый раз, когда пользователь вводит маршрут (начальные и конечные точки).\n",
    "  - Обработчик запросов в Flask использует данные из API для передачи в модель. То есть, когда пользователь отправляет запрос, сервер получает прогноз погоды через API, передаёт его в модель для анализа, а затем возвращает результат пользователю через веб-интерфейс.\n",
    "- Проверка модели:\n",
    "  - Проведи проверки работосопосбности модели с крайними значениями (например, с очень низкой или очень высокой температурой), чтобы убедиться, что модель корректно обрабатывает такие случаи.\n",
    "  - Подумай, можно ли улучшить логику модели. Например, можно добавить дополнительные параметры или настроить более сложные правила.\n",
    "\n",
    "\n",
    "\n",
    "<!-- **Ответь на вопросы:**\n",
    "\n",
    "1. Какие погодные параметры чаще всего считаются неблагоприятными для путешествий?\n",
    "2. Как лучше всего выбрать пороговые значения для этих параметров?\n",
    "3. Какие есть пути для улучшения модели, чтобы она более точно отражала реальные погодные условия? -->\n"
   ]
  },
  {
   "cell_type": "markdown",
   "metadata": {
    "deletable": false,
    "editable": false,
    "id": "S23DMLRoJR6v",
    "pycharm": {
     "name": "#%% md\n"
    }
   },
   "source": [
    "### Критерии оценки\n",
    "\n",
    "1. **Определение ключевых метеорологических параметров — 8 баллов:**\n",
    "   - Параметры корректно выделены.\n",
    "\n",
    "2. **Разработка логики оценки — 7 баллов:**\n",
    "\n",
    "   - Разработана корректная пороговая логика для классификации погодных условий.\n",
    "\n",
    "3. **Реализация модели — 10 баллов:**\n",
    "\n",
    "   - Логика успешно интегрирована в код, пользователь получает корректную оценку погодных условий на основе введённых данных.\n",
    "\n",
    "4. **Проверка — 5 баллов:**\n",
    "\n",
    "  - Модель проверена и не выдаёт ошибок (3 балла).\n",
    "\n",
    "  - Проверка охватывает крайние случаи (например, очень холодная или жаркая погода, сильный ветер и осадки) (2 балла).\n",
    "\n",
    "\n",
    "Максимальный балл, который можно получить за задание — **30 баллов.**"
   ]
  },
  {
   "cell_type": "code",
   "execution_count": 58,
   "metadata": {},
   "outputs": [],
   "source": [
    "def check_bad_weather(t, h, w_s, p):\n",
    "    feedback = []\n",
    "\n",
    "    if (t > 27 or t < 3) and h >= 80:\n",
    "        feedback.append(f'Неблагоприятная температура ({t} °C) и высокая влажность ({h}%)')\n",
    "    elif t > 30 or t < 0:\n",
    "        feedback.append(f'Неблагоприятная температура ({t} °C)')\n",
    "    if w_s > 36:\n",
    "        feedback.append(f'Высокая скорость ветра ({w_s} км/ч)')\n",
    "    if p > 60:\n",
    "        feedback.append(f'Высокая вероятность выпадения осадков ({p}%)')\n",
    "    \n",
    "    res = 'Погода благоприятная'\n",
    "    if len(feedback) > 0:\n",
    "        res = 'Погода неблагоприятная:'\n",
    "        for i in feedback:\n",
    "            res += f'\\n{i}'\n",
    "        return {'status': True, 'feedback': res}\n",
    "    return  {'status': False, 'feedback': res}"
   ]
  },
  {
   "cell_type": "code",
   "execution_count": 59,
   "metadata": {},
   "outputs": [
    {
     "name": "stdout",
     "output_type": "stream",
     "text": [
      "{'status': True, 'feedback': 'Погода неблагоприятная:\\nНеблагоприятная температура (-5.45 °C) и высокая влажность (84%)\\nВысокая вероятность выпадения осадков (94%)'}\n"
     ]
    }
   ],
   "source": [
    "print(check_bad_weather(temperature, humidity, wind_speed, precipitation_probability))"
   ]
  },
  {
   "cell_type": "code",
   "execution_count": 60,
   "metadata": {},
   "outputs": [
    {
     "name": "stdout",
     "output_type": "stream",
     "text": [
      "{'status': True, 'feedback': 'Погода неблагоприятная:\\nНеблагоприятная температура (-100 °C) и высокая влажность (100%)\\nВысокая скорость ветра (999 км/ч)\\nВысокая вероятность выпадения осадков (100%)'}\n",
      "{'status': False, 'feedback': 'Погода благоприятная'}\n",
      "{'status': True, 'feedback': 'Погода неблагоприятная:\\nНеблагоприятная температура (500 °C)'}\n"
     ]
    }
   ],
   "source": [
    "#проверка\n",
    "print(check_bad_weather(-100, 100, 999, 100))\n",
    "print(check_bad_weather(5, 100, 10, 20))\n",
    "print(check_bad_weather(500, 0, 0, 0))\n"
   ]
  },
  {
   "cell_type": "markdown",
   "metadata": {
    "deletable": false,
    "editable": false,
    "id": "0asaCN3yj8UK",
    "pycharm": {
     "name": "#%% md\n"
    }
   },
   "source": [
    "## Разработка веб-интерфейса на Flask\n",
    "\n",
    "На этом этапе создаётся веб-интерфейс, через который пользователи смогут вводить начальную и конечную точки маршрута и получать данные о погодных условиях по заданным координатам.\n",
    "\n",
    "- Создай HTML-форму с полями для ввода начальной и конечной точки маршрута (например, названия городов).\n",
    "- Реализуй обработку POST-запросов через Flask. Когда пользователь вводит данные в форму и нажимает кнопку, сервер должен получить данные и передать их для дальнейшей обработки.\n",
    "- Обработай данные, введённые пользователем (например, названия городов), и отправь их в модель оценки погодных условий.\n",
    "- Получи погодные данные с API и передай их в модель оценки погодных условий, чтобы определить, являются ли условия неблагоприятными.\n",
    "- Отображай результаты оценки (например, текстом: «Погода — супер» или «Ой-ой, погода плохая») на новой странице или обновляй текущую страницу после отправки формы.\n",
    "- Реализуй удобный и понятный интерфейс, где данные будут отображаться для пользователя.\n",
    "\n",
    "**Примечание.** Если запрос к API не удался или произошла ошибка (например, неправильные координаты), необходимо обработать такие случаи и выдать пользователю сообщение о том, что данные недоступны. Для этого можно использовать `try-except` блоки в Python для обработки исключений при вызове API или передаче данных в модель.\n"
   ]
  },
  {
   "cell_type": "markdown",
   "metadata": {
    "deletable": false,
    "editable": false,
    "id": "sSFqLc8jJ2I2",
    "pycharm": {
     "name": "#%% md\n"
    }
   },
   "source": [
    "### **Критерии оценки**\n",
    "\n",
    "1. **Создание HTML-формы — 10 баллов:**\n",
    "\t- Форма корректно разработана и позволяет пользователю вводить начальную и конечную точки (6 баллов).\n",
    "\t- Форма включает базовую валидацию данных (4 балла).\n",
    "2. **Настройка обработки данных — 10 баллов:**\n",
    "\t- Обработчик POST-запросов работает корректно, данные передаются на сервер и обрабатываются (6 баллов).\n",
    "\t- Данные вводятся, валидируются и передаются на сервер без ошибок (4 балла).\n",
    "3. **Интеграция модели — 10 баллов:**\n",
    "\t- Модель оценки погодных условий корректно интегрирована в веб-приложение (4 балла).\n",
    "\t- Результаты работы модели (оценка погодных условий) отображаются в удобной и понятной форме (3 балла).\n",
    "\t- Интерфейс веб-страницы аккуратен и понятен для пользователя (3 балла).\n",
    "\n",
    "Максимальный балл за задание — **30 баллов.**"
   ]
  },
  {
   "cell_type": "markdown",
   "metadata": {
    "deletable": false,
    "editable": false,
    "id": "CIXmA7a_tZMz",
    "pycharm": {
     "name": "#%% md\n"
    }
   },
   "source": [
    "## Проверка работоспособности и обработка ошибок\n",
    "\n",
    "В этом задании нужно протестировать веб-сервис и реализовать обработку возможных ошибок, которые могут возникнуть при вводе данных или взаимодействии с API.\n",
    "\n",
    "- Проверь вручную работу всех компонентов веб-сервиса с разными данными (например, те, что ты уже использовал ранее, когда проверял корректные и некорректные названия городов). Добавь новые методы.\n",
    "\n",
    "- Убедись, что сервис корректно реагирует на различные сценарии. Добавь обработку ошибок, возникающих при запросах к API (например, недоступность API, проблемы с сетью).\n",
    "\n",
    "- Выведи пользователю понятные сообщения об ошибках, чтобы он мог исправить свои действия (например, «Упс. Неверно введён город», «Ошибка подключения к серверу»).\n",
    "\n",
    "- В файле `README.md` опиши, какие ошибки ты обработал в рамках проверки работоспособности и каким образом появление ошибки влияет на общую работоспособность системы.\n",
    "\n",
    "\n"
   ]
  },
  {
   "cell_type": "markdown",
   "metadata": {
    "deletable": false,
    "editable": false,
    "id": "kEe92pCfJ3MT",
    "pycharm": {
     "name": "#%% md\n"
    }
   },
   "source": [
    "### Критерии оценки\n",
    "\n",
    "1. **Проведение проверки — 8 баллов:**\n",
    "\n",
    "  - Веб-сервис проверен на различных сценариях ввода данных (4 балла).\n",
    "\n",
    "  - Все компоненты работают корректно и не выявлены ошибки (4 балла).\n",
    "\n",
    "2. **Реализация обработки ошибок — 8 баллов:**\n",
    "\n",
    "\t- Реализована обработка ошибок ввода данных и взаимодействия с API (4 балла).\n",
    "\n",
    "\t- Сервис корректно сообщает об ошибках пользователю, а не завершается с ошибками (2 балла).\n",
    "\n",
    "    - В файле `README.md` описана проверка работоспособности системы (2 балла).\n",
    "\n",
    "3. **Отображение сообщений об ошибках — 4 балла:**\n",
    "  - Пользователь получает понятные и информативные сообщения об ошибках.\n",
    "\n",
    "Максимальный балл за задание — **20 баллов.**"
   ]
  }
 ],
 "metadata": {
  "colab": {
   "provenance": []
  },
  "kernelspec": {
   "display_name": "Python 3",
   "name": "python3"
  },
  "language_info": {
   "codemirror_mode": {
    "name": "ipython",
    "version": 3
   },
   "file_extension": ".py",
   "mimetype": "text/x-python",
   "name": "python",
   "nbconvert_exporter": "python",
   "pygments_lexer": "ipython3",
   "version": "3.11.9"
  }
 },
 "nbformat": 4,
 "nbformat_minor": 0
}
